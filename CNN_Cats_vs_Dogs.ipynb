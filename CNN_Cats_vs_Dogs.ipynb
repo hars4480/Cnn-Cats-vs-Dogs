{
  "nbformat": 4,
  "nbformat_minor": 0,
  "metadata": {
    "colab": {
      "name": "CNN Cats vs Dogs.ipynb",
      "provenance": []
    },
    "kernelspec": {
      "name": "python3",
      "display_name": "Python 3"
    },
    "language_info": {
      "name": "python"
    },
    "accelerator": "GPU"
  },
  "cells": [
    {
      "cell_type": "code",
      "metadata": {
        "colab": {
          "base_uri": "https://localhost:8080/"
        },
        "id": "1bzHDkHlLQTM",
        "outputId": "659ff4f8-8ece-4d10-e360-76984f0db38d"
      },
      "source": [
        "!pip install tensorflow==2.4.1"
      ],
      "execution_count": null,
      "outputs": [
        {
          "output_type": "stream",
          "name": "stdout",
          "text": [
            "Collecting tensorflow==2.4.1\n",
            "  Downloading tensorflow-2.4.1-cp37-cp37m-manylinux2010_x86_64.whl (394.3 MB)\n",
            "\u001b[K     |████████████████████████████████| 394.3 MB 15 kB/s \n",
            "\u001b[?25hRequirement already satisfied: wheel~=0.35 in /usr/local/lib/python3.7/dist-packages (from tensorflow==2.4.1) (0.37.0)\n",
            "Requirement already satisfied: six~=1.15.0 in /usr/local/lib/python3.7/dist-packages (from tensorflow==2.4.1) (1.15.0)\n",
            "Requirement already satisfied: opt-einsum~=3.3.0 in /usr/local/lib/python3.7/dist-packages (from tensorflow==2.4.1) (3.3.0)\n",
            "Collecting grpcio~=1.32.0\n",
            "  Downloading grpcio-1.32.0-cp37-cp37m-manylinux2014_x86_64.whl (3.8 MB)\n",
            "\u001b[K     |████████████████████████████████| 3.8 MB 39.4 MB/s \n",
            "\u001b[?25hCollecting gast==0.3.3\n",
            "  Downloading gast-0.3.3-py2.py3-none-any.whl (9.7 kB)\n",
            "Requirement already satisfied: numpy~=1.19.2 in /usr/local/lib/python3.7/dist-packages (from tensorflow==2.4.1) (1.19.5)\n",
            "Requirement already satisfied: keras-preprocessing~=1.1.2 in /usr/local/lib/python3.7/dist-packages (from tensorflow==2.4.1) (1.1.2)\n",
            "Requirement already satisfied: termcolor~=1.1.0 in /usr/local/lib/python3.7/dist-packages (from tensorflow==2.4.1) (1.1.0)\n",
            "Requirement already satisfied: protobuf>=3.9.2 in /usr/local/lib/python3.7/dist-packages (from tensorflow==2.4.1) (3.17.3)\n",
            "Collecting wrapt~=1.12.1\n",
            "  Downloading wrapt-1.12.1.tar.gz (27 kB)\n",
            "Requirement already satisfied: astunparse~=1.6.3 in /usr/local/lib/python3.7/dist-packages (from tensorflow==2.4.1) (1.6.3)\n",
            "Requirement already satisfied: google-pasta~=0.2 in /usr/local/lib/python3.7/dist-packages (from tensorflow==2.4.1) (0.2.0)\n",
            "Collecting typing-extensions~=3.7.4\n",
            "  Downloading typing_extensions-3.7.4.3-py3-none-any.whl (22 kB)\n",
            "Requirement already satisfied: tensorboard~=2.4 in /usr/local/lib/python3.7/dist-packages (from tensorflow==2.4.1) (2.7.0)\n",
            "Collecting tensorflow-estimator<2.5.0,>=2.4.0\n",
            "  Downloading tensorflow_estimator-2.4.0-py2.py3-none-any.whl (462 kB)\n",
            "\u001b[K     |████████████████████████████████| 462 kB 41.7 MB/s \n",
            "\u001b[?25hCollecting flatbuffers~=1.12.0\n",
            "  Downloading flatbuffers-1.12-py2.py3-none-any.whl (15 kB)\n",
            "Requirement already satisfied: absl-py~=0.10 in /usr/local/lib/python3.7/dist-packages (from tensorflow==2.4.1) (0.12.0)\n",
            "Collecting h5py~=2.10.0\n",
            "  Downloading h5py-2.10.0-cp37-cp37m-manylinux1_x86_64.whl (2.9 MB)\n",
            "\u001b[K     |████████████████████████████████| 2.9 MB 45.4 MB/s \n",
            "\u001b[?25hRequirement already satisfied: tensorboard-data-server<0.7.0,>=0.6.0 in /usr/local/lib/python3.7/dist-packages (from tensorboard~=2.4->tensorflow==2.4.1) (0.6.1)\n",
            "Requirement already satisfied: tensorboard-plugin-wit>=1.6.0 in /usr/local/lib/python3.7/dist-packages (from tensorboard~=2.4->tensorflow==2.4.1) (1.8.0)\n",
            "Requirement already satisfied: setuptools>=41.0.0 in /usr/local/lib/python3.7/dist-packages (from tensorboard~=2.4->tensorflow==2.4.1) (57.4.0)\n",
            "Requirement already satisfied: google-auth-oauthlib<0.5,>=0.4.1 in /usr/local/lib/python3.7/dist-packages (from tensorboard~=2.4->tensorflow==2.4.1) (0.4.6)\n",
            "Requirement already satisfied: markdown>=2.6.8 in /usr/local/lib/python3.7/dist-packages (from tensorboard~=2.4->tensorflow==2.4.1) (3.3.4)\n",
            "Requirement already satisfied: requests<3,>=2.21.0 in /usr/local/lib/python3.7/dist-packages (from tensorboard~=2.4->tensorflow==2.4.1) (2.23.0)\n",
            "Requirement already satisfied: werkzeug>=0.11.15 in /usr/local/lib/python3.7/dist-packages (from tensorboard~=2.4->tensorflow==2.4.1) (1.0.1)\n",
            "Requirement already satisfied: google-auth<3,>=1.6.3 in /usr/local/lib/python3.7/dist-packages (from tensorboard~=2.4->tensorflow==2.4.1) (1.35.0)\n",
            "Requirement already satisfied: cachetools<5.0,>=2.0.0 in /usr/local/lib/python3.7/dist-packages (from google-auth<3,>=1.6.3->tensorboard~=2.4->tensorflow==2.4.1) (4.2.4)\n",
            "Requirement already satisfied: pyasn1-modules>=0.2.1 in /usr/local/lib/python3.7/dist-packages (from google-auth<3,>=1.6.3->tensorboard~=2.4->tensorflow==2.4.1) (0.2.8)\n",
            "Requirement already satisfied: rsa<5,>=3.1.4 in /usr/local/lib/python3.7/dist-packages (from google-auth<3,>=1.6.3->tensorboard~=2.4->tensorflow==2.4.1) (4.7.2)\n",
            "Requirement already satisfied: requests-oauthlib>=0.7.0 in /usr/local/lib/python3.7/dist-packages (from google-auth-oauthlib<0.5,>=0.4.1->tensorboard~=2.4->tensorflow==2.4.1) (1.3.0)\n",
            "Requirement already satisfied: importlib-metadata in /usr/local/lib/python3.7/dist-packages (from markdown>=2.6.8->tensorboard~=2.4->tensorflow==2.4.1) (4.8.2)\n",
            "Requirement already satisfied: pyasn1<0.5.0,>=0.4.6 in /usr/local/lib/python3.7/dist-packages (from pyasn1-modules>=0.2.1->google-auth<3,>=1.6.3->tensorboard~=2.4->tensorflow==2.4.1) (0.4.8)\n",
            "Requirement already satisfied: idna<3,>=2.5 in /usr/local/lib/python3.7/dist-packages (from requests<3,>=2.21.0->tensorboard~=2.4->tensorflow==2.4.1) (2.10)\n",
            "Requirement already satisfied: certifi>=2017.4.17 in /usr/local/lib/python3.7/dist-packages (from requests<3,>=2.21.0->tensorboard~=2.4->tensorflow==2.4.1) (2021.10.8)\n",
            "Requirement already satisfied: chardet<4,>=3.0.2 in /usr/local/lib/python3.7/dist-packages (from requests<3,>=2.21.0->tensorboard~=2.4->tensorflow==2.4.1) (3.0.4)\n",
            "Requirement already satisfied: urllib3!=1.25.0,!=1.25.1,<1.26,>=1.21.1 in /usr/local/lib/python3.7/dist-packages (from requests<3,>=2.21.0->tensorboard~=2.4->tensorflow==2.4.1) (1.24.3)\n",
            "Requirement already satisfied: oauthlib>=3.0.0 in /usr/local/lib/python3.7/dist-packages (from requests-oauthlib>=0.7.0->google-auth-oauthlib<0.5,>=0.4.1->tensorboard~=2.4->tensorflow==2.4.1) (3.1.1)\n",
            "Requirement already satisfied: zipp>=0.5 in /usr/local/lib/python3.7/dist-packages (from importlib-metadata->markdown>=2.6.8->tensorboard~=2.4->tensorflow==2.4.1) (3.6.0)\n",
            "Building wheels for collected packages: wrapt\n",
            "  Building wheel for wrapt (setup.py) ... \u001b[?25l\u001b[?25hdone\n",
            "  Created wheel for wrapt: filename=wrapt-1.12.1-cp37-cp37m-linux_x86_64.whl size=68715 sha256=2dbae8588a9bca0c268b39b659beec88b9dcf5f1b2767b3a3343558dc5566cc0\n",
            "  Stored in directory: /root/.cache/pip/wheels/62/76/4c/aa25851149f3f6d9785f6c869387ad82b3fd37582fa8147ac6\n",
            "Successfully built wrapt\n",
            "Installing collected packages: typing-extensions, grpcio, wrapt, tensorflow-estimator, h5py, gast, flatbuffers, tensorflow\n",
            "  Attempting uninstall: typing-extensions\n",
            "    Found existing installation: typing-extensions 3.10.0.2\n",
            "    Uninstalling typing-extensions-3.10.0.2:\n",
            "      Successfully uninstalled typing-extensions-3.10.0.2\n",
            "  Attempting uninstall: grpcio\n",
            "    Found existing installation: grpcio 1.41.1\n",
            "    Uninstalling grpcio-1.41.1:\n",
            "      Successfully uninstalled grpcio-1.41.1\n",
            "  Attempting uninstall: wrapt\n",
            "    Found existing installation: wrapt 1.13.3\n",
            "    Uninstalling wrapt-1.13.3:\n",
            "      Successfully uninstalled wrapt-1.13.3\n",
            "  Attempting uninstall: tensorflow-estimator\n",
            "    Found existing installation: tensorflow-estimator 2.7.0\n",
            "    Uninstalling tensorflow-estimator-2.7.0:\n",
            "      Successfully uninstalled tensorflow-estimator-2.7.0\n",
            "  Attempting uninstall: h5py\n",
            "    Found existing installation: h5py 3.1.0\n",
            "    Uninstalling h5py-3.1.0:\n",
            "      Successfully uninstalled h5py-3.1.0\n",
            "  Attempting uninstall: gast\n",
            "    Found existing installation: gast 0.4.0\n",
            "    Uninstalling gast-0.4.0:\n",
            "      Successfully uninstalled gast-0.4.0\n",
            "  Attempting uninstall: flatbuffers\n",
            "    Found existing installation: flatbuffers 2.0\n",
            "    Uninstalling flatbuffers-2.0:\n",
            "      Successfully uninstalled flatbuffers-2.0\n",
            "  Attempting uninstall: tensorflow\n",
            "    Found existing installation: tensorflow 2.7.0\n",
            "    Uninstalling tensorflow-2.7.0:\n",
            "      Successfully uninstalled tensorflow-2.7.0\n",
            "Successfully installed flatbuffers-1.12 gast-0.3.3 grpcio-1.32.0 h5py-2.10.0 tensorflow-2.4.1 tensorflow-estimator-2.4.0 typing-extensions-3.7.4.3 wrapt-1.12.1\n"
          ]
        }
      ]
    },
    {
      "cell_type": "markdown",
      "metadata": {
        "id": "M9iCCFyKuJc2"
      },
      "source": [
        "The Idea is to apply CNN to Cats&Dogs Image Classification dataset."
      ]
    },
    {
      "cell_type": "code",
      "metadata": {
        "colab": {
          "base_uri": "https://localhost:8080/"
        },
        "id": "w0OaMDZEGfo6",
        "outputId": "fddccc1e-7747-4539-9470-bf25312b4bdd"
      },
      "source": [
        "import numpy as np\n",
        "import pandas as pd\n",
        "import os\n",
        "\n",
        "from sklearn.model_selection import train_test_split\n",
        "\n",
        "import tensorflow as tf\n",
        "\n",
        "print(tf.__version__)"
      ],
      "execution_count": null,
      "outputs": [
        {
          "output_type": "stream",
          "name": "stdout",
          "text": [
            "2.4.1\n"
          ]
        }
      ]
    },
    {
      "cell_type": "code",
      "metadata": {
        "colab": {
          "base_uri": "https://localhost:8080/"
        },
        "id": "OUGURQcXHuxb",
        "outputId": "d98d1624-7a6f-49ac-dc78-43a0082c289a"
      },
      "source": [
        "# preparing data\n",
        "\n",
        "TRAIN_DIR = \"Data/train_cdd\"\n",
        "TEST_DIR = \"Data/test_cd\"\n",
        "\n",
        "TRAIN_SIZE = len([name for name in os.listdir(TRAIN_DIR)])\n",
        "TEST_SIZE = len([name for name in os.listdir(TEST_DIR)])\n",
        "print(\"Number of training images:\", TRAIN_SIZE)\n",
        "print(\"Number of test images:\", TEST_SIZE)"
      ],
      "execution_count": null,
      "outputs": [
        {
          "output_type": "stream",
          "name": "stdout",
          "text": [
            "Number of training images: 1881\n",
            "Number of test images: 300\n"
          ]
        }
      ]
    },
    {
      "cell_type": "code",
      "metadata": {
        "id": "LYApE4qNH8OB"
      },
      "source": [
        "VALID_FRACTION = 0.2\n",
        "BATCH_SIZE = 100\n",
        "EPOCHS = 50\n",
        "\n",
        "IMAGE_WIDTH = IMAGE_HEIGHT = 150\n",
        "\n",
        "# creating df with train labels\n",
        "train_filenames = os.listdir(TRAIN_DIR)\n",
        "train_labels = []\n",
        "for filename in train_filenames:\n",
        "    label = filename.split('.')[0]\n",
        "    train_labels.append(label)\n",
        "\n",
        "train_df = pd.DataFrame({\n",
        "    'id': train_filenames,\n",
        "    'label': train_labels\n",
        "})"
      ],
      "execution_count": null,
      "outputs": []
    },
    {
      "cell_type": "code",
      "metadata": {
        "colab": {
          "base_uri": "https://localhost:8080/"
        },
        "id": "YdJKfGDNIBhA",
        "outputId": "84ff4c5f-000c-4999-9c6d-8190e12eab96"
      },
      "source": [
        "# splitting to train & valid\n",
        "train_df, valid_df = train_test_split(train_df, test_size=VALID_FRACTION)\n",
        "\n",
        "# augmentation settings, for now just normalizing\n",
        "train_datagen = tf.keras.preprocessing.image.ImageDataGenerator(    \n",
        "    rotation_range=40,\n",
        "    width_shift_range=0.2,\n",
        "    height_shift_range=0.2,\n",
        "    rescale=1./255.,\n",
        "    shear_range=0.2,\n",
        "    zoom_range=0.2,\n",
        "    horizontal_flip=True,\n",
        "    fill_mode='nearest'\n",
        "    )\n",
        "\n",
        "# not doing any data augmentation on validation test set\n",
        "valid_datagen  = tf.keras.preprocessing.image.ImageDataGenerator(rescale=1./255.)\n",
        "\n",
        "# creating train and valid generators (not using valid_split to avoid doing data augmentation on validation set)\n",
        "train_generator = train_datagen.flow_from_dataframe(\n",
        "    train_df, \n",
        "    TRAIN_DIR, \n",
        "    x_col='id',\n",
        "    y_col='label',\n",
        "    target_size=(IMAGE_WIDTH, IMAGE_HEIGHT),\n",
        "    class_mode='binary',\n",
        "    batch_size=BATCH_SIZE\n",
        ")\n",
        "\n",
        "valid_generator = valid_datagen.flow_from_dataframe(\n",
        "    valid_df, \n",
        "    TRAIN_DIR, \n",
        "    x_col='id',\n",
        "    y_col='label',\n",
        "    target_size=(IMAGE_WIDTH, IMAGE_HEIGHT),\n",
        "    class_mode='binary',\n",
        "    batch_size=BATCH_SIZE\n",
        ")"
      ],
      "execution_count": null,
      "outputs": [
        {
          "output_type": "stream",
          "name": "stdout",
          "text": [
            "Found 2053 validated image filenames belonging to 2 classes.\n",
            "Found 514 validated image filenames belonging to 2 classes.\n"
          ]
        }
      ]
    },
    {
      "cell_type": "code",
      "metadata": {
        "colab": {
          "base_uri": "https://localhost:8080/"
        },
        "id": "TY6j4lyMIIp4",
        "outputId": "6bf9937b-3f09-41f8-a822-d22bf1e49135"
      },
      "source": [
        "model = tf.keras.models.Sequential([\n",
        "    # the images were resized by ImageDataGenerator 150x150 with 3 bytes color\n",
        "    tf.keras.layers.Conv2D(32, (3,3), activation='relu', input_shape=(IMAGE_WIDTH, IMAGE_HEIGHT, 3)),\n",
        "    tf.keras.layers.MaxPooling2D(2,2),\n",
        "    tf.keras.layers.Conv2D(64, (3,3), activation='relu'),\n",
        "    tf.keras.layers.MaxPooling2D(2,2), \n",
        "    tf.keras.layers.Conv2D(128, (3,3), activation='relu'), \n",
        "    tf.keras.layers.MaxPooling2D(2,2),\n",
        "    tf.keras.layers.Conv2D(128, (3,3), activation='relu'), \n",
        "    tf.keras.layers.MaxPooling2D(2,2),\n",
        "    tf.keras.layers.Dropout(0.5),\n",
        "    tf.keras.layers.Flatten(), \n",
        "    # 512 neuron hidden layer\n",
        "    tf.keras.layers.Dense(512, activation='relu'),\n",
        "    # since we have only 2 classes to predict we can use 1 neuron and sigmoid\n",
        "    tf.keras.layers.Dense(1, activation='sigmoid')  \n",
        "])\n",
        "\n",
        "model.summary()"
      ],
      "execution_count": null,
      "outputs": [
        {
          "output_type": "stream",
          "name": "stdout",
          "text": [
            "Model: \"sequential_2\"\n",
            "_________________________________________________________________\n",
            "Layer (type)                 Output Shape              Param #   \n",
            "=================================================================\n",
            "conv2d_8 (Conv2D)            (None, 148, 148, 32)      896       \n",
            "_________________________________________________________________\n",
            "max_pooling2d_8 (MaxPooling2 (None, 74, 74, 32)        0         \n",
            "_________________________________________________________________\n",
            "conv2d_9 (Conv2D)            (None, 72, 72, 64)        18496     \n",
            "_________________________________________________________________\n",
            "max_pooling2d_9 (MaxPooling2 (None, 36, 36, 64)        0         \n",
            "_________________________________________________________________\n",
            "conv2d_10 (Conv2D)           (None, 34, 34, 128)       73856     \n",
            "_________________________________________________________________\n",
            "max_pooling2d_10 (MaxPooling (None, 17, 17, 128)       0         \n",
            "_________________________________________________________________\n",
            "conv2d_11 (Conv2D)           (None, 15, 15, 128)       147584    \n",
            "_________________________________________________________________\n",
            "max_pooling2d_11 (MaxPooling (None, 7, 7, 128)         0         \n",
            "_________________________________________________________________\n",
            "dropout_2 (Dropout)          (None, 7, 7, 128)         0         \n",
            "_________________________________________________________________\n",
            "flatten_2 (Flatten)          (None, 6272)              0         \n",
            "_________________________________________________________________\n",
            "dense_4 (Dense)              (None, 512)               3211776   \n",
            "_________________________________________________________________\n",
            "dense_5 (Dense)              (None, 1)                 513       \n",
            "=================================================================\n",
            "Total params: 3,453,121\n",
            "Trainable params: 3,453,121\n",
            "Non-trainable params: 0\n",
            "_________________________________________________________________\n"
          ]
        }
      ]
    },
    {
      "cell_type": "code",
      "metadata": {
        "id": "WjBSngCHIRnu"
      },
      "source": [
        "\n",
        "model.compile(optimizer=tf.keras.optimizers.RMSprop(lr=0.001),\n",
        "    loss='binary_crossentropy',\n",
        "    metrics = ['accuracy'], run_eagerly=True)\n",
        "\n",
        "es = tf.keras.callbacks.EarlyStopping(monitor='val_loss',\n",
        "    mode='min',\n",
        "    restore_best_weights=True, \n",
        "    verbose=1,\n",
        "    patience=5)"
      ],
      "execution_count": null,
      "outputs": []
    },
    {
      "cell_type": "code",
      "metadata": {
        "colab": {
          "base_uri": "https://localhost:8080/",
          "height": 1000
        },
        "id": "0Oz0pRh2IVro",
        "outputId": "8e8fa085-3907-4428-ddd9-d0c8a4d8c2c3"
      },
      "source": [
        "tf.keras.utils.plot_model(model)"
      ],
      "execution_count": null,
      "outputs": [
        {
          "output_type": "execute_result",
          "data": {
            "image/png": "[encoded data removed]",
            "text/plain": [
              "<IPython.core.display.Image object>"
            ]
          },
          "metadata": {},
          "execution_count": 26
        }
      ]
    },
    {
      "cell_type": "code",
      "metadata": {
        "id": "ppqPgo1BJMZs"
      },
      "source": [
        "tf.config.run_functions_eagerly(True)"
      ],
      "execution_count": null,
      "outputs": []
    },
    {
      "cell_type": "code",
      "metadata": {
        "colab": {
          "base_uri": "https://localhost:8080/"
        },
        "id": "G9PJDBTiIZeI",
        "outputId": "ae624ccb-fc07-4811-ef4f-090c705ff2ec"
      },
      "source": [
        "%%time\n",
        "\n",
        "# training\n",
        "history = model.fit_generator(train_generator,\n",
        "    validation_data=valid_generator,\n",
        "    steps_per_epoch=round(TRAIN_SIZE*(1.-VALID_FRACTION)/BATCH_SIZE),\n",
        "    validation_steps=round(TRAIN_SIZE*VALID_FRACTION/BATCH_SIZE),\n",
        "    epochs=EPOCHS,\n",
        "    callbacks=[es],\n",
        "    verbose=1)"
      ],
      "execution_count": null,
      "outputs": [
        {
          "output_type": "stream",
          "name": "stderr",
          "text": [
            "/usr/local/lib/python3.7/dist-packages/tensorflow/python/keras/engine/training.py:1844: UserWarning: `Model.fit_generator` is deprecated and will be removed in a future version. Please use `Model.fit`, which supports generators.\n",
            "  warnings.warn('`Model.fit_generator` is deprecated and '\n"
          ]
        },
        {
          "output_type": "stream",
          "name": "stdout",
          "text": [
            "Epoch 1/50\n",
            "21/21 [==============================] - 21s 998ms/step - loss: 0.9618 - accuracy: 0.4802 - val_loss: 0.6903 - val_accuracy: 0.5080\n",
            "Epoch 2/50\n",
            "21/21 [==============================] - 20s 951ms/step - loss: 0.6927 - accuracy: 0.5092 - val_loss: 0.7550 - val_accuracy: 0.5120\n",
            "Epoch 3/50\n",
            "21/21 [==============================] - 20s 951ms/step - loss: 0.6893 - accuracy: 0.5469 - val_loss: 0.6850 - val_accuracy: 0.4960\n",
            "Epoch 4/50\n",
            "21/21 [==============================] - 20s 969ms/step - loss: 0.6846 - accuracy: 0.5324 - val_loss: 0.6851 - val_accuracy: 0.5260\n",
            "Epoch 5/50\n",
            "21/21 [==============================] - 20s 969ms/step - loss: 0.6973 - accuracy: 0.5448 - val_loss: 0.6987 - val_accuracy: 0.4920\n",
            "Epoch 6/50\n",
            "21/21 [==============================] - 20s 962ms/step - loss: 0.6828 - accuracy: 0.5506 - val_loss: 0.6799 - val_accuracy: 0.5220\n",
            "Epoch 7/50\n",
            "21/21 [==============================] - 20s 959ms/step - loss: 0.6838 - accuracy: 0.5683 - val_loss: 0.6784 - val_accuracy: 0.5620\n",
            "Epoch 8/50\n",
            "21/21 [==============================] - 20s 944ms/step - loss: 0.6813 - accuracy: 0.5511 - val_loss: 0.6789 - val_accuracy: 0.5800\n",
            "Epoch 9/50\n",
            "21/21 [==============================] - 20s 956ms/step - loss: 0.6921 - accuracy: 0.5742 - val_loss: 0.6814 - val_accuracy: 0.5420\n",
            "Epoch 10/50\n",
            "21/21 [==============================] - 20s 971ms/step - loss: 0.6791 - accuracy: 0.5656 - val_loss: 0.6884 - val_accuracy: 0.4900\n",
            "Epoch 11/50\n",
            "21/21 [==============================] - 20s 954ms/step - loss: 0.6863 - accuracy: 0.5288 - val_loss: 0.6681 - val_accuracy: 0.5700\n",
            "Epoch 12/50\n",
            "21/21 [==============================] - 20s 956ms/step - loss: 0.6935 - accuracy: 0.5727 - val_loss: 0.6794 - val_accuracy: 0.5380\n",
            "Epoch 13/50\n",
            "21/21 [==============================] - 20s 954ms/step - loss: 0.6714 - accuracy: 0.5821 - val_loss: 0.6686 - val_accuracy: 0.5860\n",
            "Epoch 14/50\n",
            "21/21 [==============================] - 20s 959ms/step - loss: 0.6728 - accuracy: 0.5816 - val_loss: 0.6932 - val_accuracy: 0.5620\n",
            "Epoch 15/50\n",
            "21/21 [==============================] - 20s 952ms/step - loss: 0.6713 - accuracy: 0.6058 - val_loss: 0.9027 - val_accuracy: 0.5500\n",
            "Epoch 16/50\n",
            "21/21 [==============================] - 20s 969ms/step - loss: 0.6646 - accuracy: 0.6019 - val_loss: 0.6651 - val_accuracy: 0.5940\n",
            "Epoch 17/50\n",
            "21/21 [==============================] - 20s 950ms/step - loss: 0.6501 - accuracy: 0.6264 - val_loss: 0.6666 - val_accuracy: 0.5860\n",
            "Epoch 18/50\n",
            "21/21 [==============================] - 20s 942ms/step - loss: 0.6540 - accuracy: 0.6149 - val_loss: 0.6387 - val_accuracy: 0.6260\n",
            "Epoch 19/50\n",
            "21/21 [==============================] - 20s 949ms/step - loss: 0.6342 - accuracy: 0.6313 - val_loss: 0.6238 - val_accuracy: 0.6460\n",
            "Epoch 20/50\n",
            "21/21 [==============================] - 20s 945ms/step - loss: 0.6441 - accuracy: 0.6286 - val_loss: 0.6714 - val_accuracy: 0.5580\n",
            "Epoch 21/50\n",
            "21/21 [==============================] - 20s 948ms/step - loss: 0.6375 - accuracy: 0.6386 - val_loss: 0.6096 - val_accuracy: 0.6740\n",
            "Epoch 22/50\n",
            "21/21 [==============================] - 20s 948ms/step - loss: 0.6315 - accuracy: 0.6526 - val_loss: 0.6520 - val_accuracy: 0.6260\n",
            "Epoch 23/50\n",
            "21/21 [==============================] - 20s 952ms/step - loss: 0.6248 - accuracy: 0.6662 - val_loss: 0.6097 - val_accuracy: 0.6700\n",
            "Epoch 24/50\n",
            "21/21 [==============================] - 20s 951ms/step - loss: 0.6097 - accuracy: 0.6925 - val_loss: 0.6230 - val_accuracy: 0.6840\n",
            "Epoch 25/50\n",
            "21/21 [==============================] - 20s 950ms/step - loss: 0.6199 - accuracy: 0.6629 - val_loss: 0.5737 - val_accuracy: 0.6760\n",
            "Epoch 26/50\n",
            "21/21 [==============================] - 20s 950ms/step - loss: 0.6081 - accuracy: 0.6524 - val_loss: 0.6005 - val_accuracy: 0.6460\n",
            "Epoch 27/50\n",
            "21/21 [==============================] - 20s 957ms/step - loss: 0.6051 - accuracy: 0.6702 - val_loss: 0.5762 - val_accuracy: 0.6780\n",
            "Epoch 28/50\n",
            "21/21 [==============================] - 20s 968ms/step - loss: 0.6312 - accuracy: 0.6589 - val_loss: 0.5585 - val_accuracy: 0.7160\n",
            "Epoch 29/50\n",
            "21/21 [==============================] - 20s 955ms/step - loss: 0.5890 - accuracy: 0.6809 - val_loss: 0.5337 - val_accuracy: 0.7280\n",
            "Epoch 30/50\n",
            "21/21 [==============================] - 20s 949ms/step - loss: 0.6200 - accuracy: 0.6645 - val_loss: 0.5960 - val_accuracy: 0.6780\n",
            "Epoch 31/50\n",
            "21/21 [==============================] - 20s 950ms/step - loss: 0.5900 - accuracy: 0.6897 - val_loss: 0.5662 - val_accuracy: 0.6940\n",
            "Epoch 32/50\n",
            "21/21 [==============================] - 20s 954ms/step - loss: 0.5903 - accuracy: 0.6865 - val_loss: 0.5549 - val_accuracy: 0.6920\n",
            "Epoch 33/50\n",
            "21/21 [==============================] - 20s 956ms/step - loss: 0.5760 - accuracy: 0.7095 - val_loss: 0.5895 - val_accuracy: 0.6800\n",
            "Epoch 34/50\n",
            "21/21 [==============================] - 20s 952ms/step - loss: 0.6003 - accuracy: 0.6816 - val_loss: 0.5228 - val_accuracy: 0.7420\n",
            "Epoch 35/50\n",
            "21/21 [==============================] - 20s 960ms/step - loss: 0.5793 - accuracy: 0.6946 - val_loss: 0.5220 - val_accuracy: 0.7540\n",
            "Epoch 36/50\n",
            "21/21 [==============================] - 20s 985ms/step - loss: 0.5605 - accuracy: 0.7145 - val_loss: 0.6075 - val_accuracy: 0.6680\n",
            "Epoch 37/50\n",
            "21/21 [==============================] - 20s 957ms/step - loss: 0.6081 - accuracy: 0.6951 - val_loss: 0.5173 - val_accuracy: 0.7480\n",
            "Epoch 38/50\n",
            "21/21 [==============================] - 20s 959ms/step - loss: 0.5618 - accuracy: 0.7157 - val_loss: 0.5324 - val_accuracy: 0.7280\n",
            "Epoch 39/50\n",
            "21/21 [==============================] - 21s 974ms/step - loss: 0.5729 - accuracy: 0.7014 - val_loss: 0.6049 - val_accuracy: 0.6620\n",
            "Epoch 40/50\n",
            "21/21 [==============================] - 20s 965ms/step - loss: 0.5806 - accuracy: 0.6943 - val_loss: 0.5034 - val_accuracy: 0.7740\n",
            "Epoch 41/50\n",
            "21/21 [==============================] - 20s 968ms/step - loss: 0.5614 - accuracy: 0.7087 - val_loss: 0.5171 - val_accuracy: 0.7460\n",
            "Epoch 42/50\n",
            "21/21 [==============================] - 20s 959ms/step - loss: 0.5639 - accuracy: 0.7038 - val_loss: 0.5355 - val_accuracy: 0.7280\n",
            "Epoch 43/50\n",
            "21/21 [==============================] - 20s 951ms/step - loss: 0.5628 - accuracy: 0.7222 - val_loss: 0.5464 - val_accuracy: 0.7400\n",
            "Epoch 44/50\n",
            "21/21 [==============================] - 20s 958ms/step - loss: 0.5523 - accuracy: 0.7027 - val_loss: 0.4999 - val_accuracy: 0.7540\n",
            "Epoch 45/50\n",
            "21/21 [==============================] - 21s 979ms/step - loss: 0.5316 - accuracy: 0.7326 - val_loss: 0.5406 - val_accuracy: 0.7160\n",
            "Epoch 46/50\n",
            "21/21 [==============================] - 20s 950ms/step - loss: 0.5567 - accuracy: 0.7257 - val_loss: 0.5185 - val_accuracy: 0.7400\n",
            "Epoch 47/50\n",
            "21/21 [==============================] - 20s 952ms/step - loss: 0.5573 - accuracy: 0.7103 - val_loss: 0.5010 - val_accuracy: 0.7540\n",
            "Epoch 48/50\n",
            "21/21 [==============================] - 20s 946ms/step - loss: 0.5295 - accuracy: 0.7266 - val_loss: 0.5055 - val_accuracy: 0.7360\n",
            "Epoch 49/50\n",
            "21/21 [==============================] - 20s 936ms/step - loss: 0.5582 - accuracy: 0.7205 - val_loss: 1.4156 - val_accuracy: 0.5220\n",
            "Restoring model weights from the end of the best epoch.\n",
            "Epoch 00049: early stopping\n",
            "CPU times: user 17min 32s, sys: 26.6 s, total: 17min 59s\n",
            "Wall time: 16min 31s\n"
          ]
        }
      ]
    },
    {
      "cell_type": "code",
      "metadata": {
        "id": "eODZqfVwLOtC",
        "colab": {
          "base_uri": "https://localhost:8080/",
          "height": 315
        },
        "outputId": "9986cebd-b06c-4883-a155-7579b0c08841"
      },
      "source": [
        "#plotting\n",
        "\n",
        "import matplotlib.pyplot as plt\n",
        "\n",
        "#-----------------------------------------------------------\n",
        "# Retrieve a list of list results on training and test data\n",
        "# sets for each training epoch\n",
        "#-----------------------------------------------------------\n",
        "acc = history.history['accuracy']\n",
        "val_acc = history.history[ 'val_accuracy']\n",
        "loss = history.history['loss']\n",
        "val_loss = history.history['val_loss']\n",
        "\n",
        "epochs   = range(len(acc)) # Get number of epochs\n",
        "\n",
        "#------------------------------------------------\n",
        "# Plot training and validation accuracy per epoch\n",
        "#------------------------------------------------\n",
        "plt.plot(epochs, acc)\n",
        "plt.plot(epochs, val_acc)\n",
        "plt.title('Training and validation accuracy')\n",
        "plt.figure()"
      ],
      "execution_count": null,
      "outputs": [
        {
          "output_type": "execute_result",
          "data": {
            "text/plain": [
              "<Figure size 432x288 with 0 Axes>"
            ]
          },
          "metadata": {},
          "execution_count": 28
        },
        {
          "output_type": "display_data",
          "data": {
            "image/png": "[encoded data removed]",
            "text/plain": [
              "<Figure size 432x288 with 1 Axes>"
            ]
          },
          "metadata": {
            "needs_background": "light"
          }
        },
        {
          "output_type": "display_data",
          "data": {
            "text/plain": [
              "<Figure size 432x288 with 0 Axes>"
            ]
          },
          "metadata": {}
        }
      ]
    },
    {
      "cell_type": "code",
      "metadata": {
        "id": "degyoCyzIfJv",
        "colab": {
          "base_uri": "https://localhost:8080/"
        },
        "outputId": "b0fdf0f5-742a-49af-b702-336b4cc745f1"
      },
      "source": [
        "%%time\n",
        "\n",
        "# preparing testing data\n",
        "test_filenames = os.listdir(TEST_DIR)\n",
        "test_df = pd.DataFrame({\n",
        "    'id': test_filenames\n",
        "})\n",
        "\n",
        "test_datagen = tf.keras.preprocessing.image.ImageDataGenerator(rescale = 1.0/255.)\n",
        "\n",
        "test_generator = test_datagen.flow_from_dataframe(\n",
        "    test_df, \n",
        "    TEST_DIR, \n",
        "    x_col='id',\n",
        "    y_col=None,\n",
        "    class_mode=None,\n",
        "    target_size=(IMAGE_WIDTH, IMAGE_HEIGHT),\n",
        "    batch_size=BATCH_SIZE,\n",
        "    shuffle=False\n",
        ")\n",
        "\n",
        "yhat = model.predict_generator(test_generator, steps=np.ceil(TEST_SIZE/BATCH_SIZE))"
      ],
      "execution_count": null,
      "outputs": [
        {
          "output_type": "stream",
          "name": "stdout",
          "text": [
            "Found 300 validated image filenames.\n"
          ]
        },
        {
          "output_type": "stream",
          "name": "stderr",
          "text": [
            "/usr/local/lib/python3.7/dist-packages/tensorflow/python/keras/engine/training.py:1905: UserWarning: `Model.predict_generator` is deprecated and will be removed in a future version. Please use `Model.predict`, which supports generators.\n",
            "  warnings.warn('`Model.predict_generator` is deprecated and '\n"
          ]
        },
        {
          "output_type": "stream",
          "name": "stdout",
          "text": [
            "CPU times: user 1.38 s, sys: 51.3 ms, total: 1.43 s\n",
            "Wall time: 1.38 s\n"
          ]
        }
      ]
    },
    {
      "cell_type": "code",
      "metadata": {
        "id": "mszPW5UyPg3B"
      },
      "source": [
        "# sigmoid returns probability between 0 and 1, need to convert it to an integer class\n",
        "yhat = [1 if y > 0.5 else 0 for y in yhat]\n",
        "\n",
        "test_df['label'] = yhat\n",
        "\n",
        "# restoring back to class names (dog|cat)\n",
        "label_map = dict((v,k) for k,v in train_generator.class_indices.items())\n",
        "test_df['label'] = test_df['label'].replace(label_map)\n",
        "\n",
        "# encoding according to submission format, 1 = dog, 0 = cat\n",
        "test_df['label'] = test_df['label'].replace({ 'dog': 1, 'cat': 0 })"
      ],
      "execution_count": null,
      "outputs": []
    },
    {
      "cell_type": "code",
      "metadata": {
        "colab": {
          "base_uri": "https://localhost:8080/",
          "height": 204
        },
        "id": "GLANgui2Prwc",
        "outputId": "68e1c84b-1bd3-41f8-cbed-15e7b490f174"
      },
      "source": [
        "test_df.head()"
      ],
      "execution_count": null,
      "outputs": [
        {
          "output_type": "execute_result",
          "data": {
            "text/html": [
              "<div>\n",
              "<style scoped>\n",
              "    .dataframe tbody tr th:only-of-type {\n",
              "        vertical-align: middle;\n",
              "    }\n",
              "\n",
              "    .dataframe tbody tr th {\n",
              "        vertical-align: top;\n",
              "    }\n",
              "\n",
              "    .dataframe thead th {\n",
              "        text-align: right;\n",
              "    }\n",
              "</style>\n",
              "<table border=\"1\" class=\"dataframe\">\n",
              "  <thead>\n",
              "    <tr style=\"text-align: right;\">\n",
              "      <th></th>\n",
              "      <th>id</th>\n",
              "      <th>label</th>\n",
              "    </tr>\n",
              "  </thead>\n",
              "  <tbody>\n",
              "    <tr>\n",
              "      <th>0</th>\n",
              "      <td>1766.jpg</td>\n",
              "      <td>1</td>\n",
              "    </tr>\n",
              "    <tr>\n",
              "      <th>1</th>\n",
              "      <td>8030.jpg</td>\n",
              "      <td>0</td>\n",
              "    </tr>\n",
              "    <tr>\n",
              "      <th>2</th>\n",
              "      <td>6021.jpg</td>\n",
              "      <td>0</td>\n",
              "    </tr>\n",
              "    <tr>\n",
              "      <th>3</th>\n",
              "      <td>1799.jpg</td>\n",
              "      <td>0</td>\n",
              "    </tr>\n",
              "    <tr>\n",
              "      <th>4</th>\n",
              "      <td>9448.jpg</td>\n",
              "      <td>0</td>\n",
              "    </tr>\n",
              "  </tbody>\n",
              "</table>\n",
              "</div>"
            ],
            "text/plain": [
              "         id  label\n",
              "0  1766.jpg      1\n",
              "1  8030.jpg      0\n",
              "2  6021.jpg      0\n",
              "3  1799.jpg      0\n",
              "4  9448.jpg      0"
            ]
          },
          "metadata": {},
          "execution_count": 31
        }
      ]
    },
    {
      "cell_type": "code",
      "metadata": {
        "id": "URnCqxJhPvHS"
      },
      "source": [
        ""
      ],
      "execution_count": null,
      "outputs": []
    }
  ]
}